{
 "cells": [
  {
   "cell_type": "code",
   "execution_count": 9,
   "metadata": {},
   "outputs": [],
   "source": [
    "import boto3\n",
    "import json"
   ]
  },
  {
   "cell_type": "code",
   "execution_count": 13,
   "metadata": {},
   "outputs": [],
   "source": [
    "# Generate client\n",
    "bedrock_runtime = boto3.client('bedrock-runtime', region_name='us-east-1')"
   ]
  },
  {
   "cell_type": "code",
   "execution_count": 18,
   "metadata": {},
   "outputs": [],
   "source": [
    "# Setup prompt\n",
    "prompt = \"Write a one sentence summary of Blumenau.\"\n",
    "\n",
    "# Request args\n",
    "kwargs = {\n",
    "    \"modelId\": \"amazon.titan-text-lite-v1\",\n",
    "    \"contentType\": \"application/json\",\n",
    "    \"accept\": \"*/*\",\n",
    "    \"body\": json.dumps({\"inputText\": prompt})\n",
    "}\n",
    " "
   ]
  },
  {
   "cell_type": "code",
   "execution_count": 27,
   "metadata": {},
   "outputs": [
    {
     "name": "stdout",
     "output_type": "stream",
     "text": [
      "{'ResponseMetadata': {'RequestId': 'ee514ba5-60f4-4c4f-ab51-c7e88cac76e0', 'HTTPStatusCode': 200, 'HTTPHeaders': {'date': 'Sat, 25 Jan 2025 19:54:43 GMT', 'content-type': 'application/json', 'content-length': '250', 'connection': 'keep-alive', 'x-amzn-requestid': 'ee514ba5-60f4-4c4f-ab51-c7e88cac76e0', 'x-amzn-bedrock-invocation-latency': '1187', 'x-amzn-bedrock-output-token-count': '34', 'x-amzn-bedrock-input-token-count': '9'}, 'RetryAttempts': 0}, 'contentType': 'application/json', 'body': <botocore.response.StreamingBody object at 0x00000176F945F550>}\n"
     ]
    }
   ],
   "source": [
    "# Invoke\n",
    "response = bedrock_runtime.invoke_model(**kwargs)\n",
    "\n",
    "print(response)"
   ]
  },
  {
   "cell_type": "code",
   "execution_count": 32,
   "metadata": {},
   "outputs": [
    {
     "name": "stdout",
     "output_type": "stream",
     "text": [
      "b''\n"
     ]
    }
   ],
   "source": [
    "response\n",
    "# Parse\n",
    "response_body = response.get('body').read()\n",
    "\n",
    "# reponseJson = json.loads(response_body)\n",
    "\n",
    "print(response_body)\n",
    "# print(reponseJson)\n",
    "# print(response_body['results'][0]['outputText'])"
   ]
  },
  {
   "cell_type": "markdown",
   "metadata": {},
   "source": [
    "# ____________\n",
    "# With additional parameters"
   ]
  },
  {
   "cell_type": "code",
   "execution_count": 35,
   "metadata": {},
   "outputs": [],
   "source": [
    "prompt = \"Write a summary of Blumenau.\"\n",
    "\n",
    "kwargs = {\n",
    "    \"modelId\": \"amazon.titan-text-express-v1\",\n",
    "    \"contentType\": \"application/json\",\n",
    "    \"accept\": \"*/*\",\n",
    "    \"body\": json.dumps({\n",
    "        \"inputText\": prompt,\n",
    "        # Custom parameters\n",
    "        \"textGenerationConfig\": {\n",
    "            \"maxTokenCount\": 100,\n",
    "            \"temperature\": 0.7,\n",
    "            \"topP\": 0.9\n",
    "        }\n",
    "    })\n",
    "}"
   ]
  },
  {
   "cell_type": "code",
   "execution_count": 36,
   "metadata": {},
   "outputs": [
    {
     "name": "stdout",
     "output_type": "stream",
     "text": [
      "{'ResponseMetadata': {'RequestId': '56998ff0-2aa1-4376-b388-75d18b267648', 'HTTPStatusCode': 200, 'HTTPHeaders': {'date': 'Sat, 25 Jan 2025 19:58:59 GMT', 'content-type': 'application/json', 'content-length': '569', 'connection': 'keep-alive', 'x-amzn-requestid': '56998ff0-2aa1-4376-b388-75d18b267648', 'x-amzn-bedrock-invocation-latency': '4069', 'x-amzn-bedrock-output-token-count': '100', 'x-amzn-bedrock-input-token-count': '7'}, 'RetryAttempts': 0}, 'contentType': 'application/json', 'body': <botocore.response.StreamingBody object at 0x00000176F945DAB0>}\n",
      "{'inputTextTokenCount': 7, 'results': [{'tokenCount': 100, 'outputText': '\\nBlumenau is a city in Santa Catarina, Brazil, located near the border with Rio Grande do Sul. It is known as the \"German capital of Brazil\" due to its strong German cultural influence. Blumenau is home to a large number of German immigrants who have contributed to the city\\'s growth and development.\\n\\nOne of the most notable features of Blumenau is its architecture. The city is known for its well-preserved historic buildings, many of which date back to the late', 'completionReason': 'LENGTH'}]}\n",
      "\n",
      "Blumenau is a city in Santa Catarina, Brazil, located near the border with Rio Grande do Sul. It is known as the \"German capital of Brazil\" due to its strong German cultural influence. Blumenau is home to a large number of German immigrants who have contributed to the city's growth and development.\n",
      "\n",
      "One of the most notable features of Blumenau is its architecture. The city is known for its well-preserved historic buildings, many of which date back to the late\n"
     ]
    }
   ],
   "source": [
    "response = bedrock_runtime.invoke_model(**kwargs)\n",
    "\n",
    "print(response)\n",
    "\n",
    "response_body = json.loads(response.get('body').read())\n",
    "\n",
    "print(response_body)\n",
    "print(response_body['results'][0]['outputText'])"
   ]
  },
  {
   "cell_type": "code",
   "execution_count": null,
   "metadata": {},
   "outputs": [],
   "source": [
    "# With increased token allowed\n",
    "\n",
    "kwargs['body'] = json.dumps({\n",
    "    \"inputText\": prompt,\n",
    "    \"textGenerationConfig\": {\n",
    "        \"maxTokenCount\": 500,\n",
    "        \"temperature\": 0.7,\n",
    "        \"topP\": 0.9\n",
    "    }\n",
    "})\n",
    "\n",
    "response = bedrock_runtime.invoke_model(**kwargs)\n",
    "\n",
    "print(response)\n",
    "\n",
    "response_body = json.loads(response.get('body').read().decode('utf-8'))\n",
    "\n",
    "print(response_body)\n",
    "print(response_body['results'][0]['outputText'])"
   ]
  },
  {
   "cell_type": "code",
   "execution_count": 37,
   "metadata": {},
   "outputs": [
    {
     "name": "stdout",
     "output_type": "stream",
     "text": [
      "The text between the <transcript> XML tags is a transcript of a conversation. write a summary of the conversation.\n",
      "\n",
      "<transcript>\n",
      "spk_0: Hi, is this the Crystal Heights Hotel in Singapore? \n",
      "spk_1: Yes, it is. Good afternoon. How may I assist you today? \n",
      "spk_0: Fantastic, good afternoon. I was looking to book a room for my 10th wedding anniversary. Ive heard your hotel offers exceptional views and services. Could you tell me more? \n",
      "spk_1: Absolutely, Alex and congratulations on your upcoming anniversary. Thats a significant milestone and wed be honored to make it a special occasion for you. We have several room types that offer stunning views of the city skyline and the fictional Sapphire Bay. Our special diamond suite even comes with exclusive access to the moonlit pool and star deck. We also have in house spa services, world class dining options and a shopping arcade. \n",
      "spk_0: That sounds heavenly. I think my spouse would love the moonlit pool. Can you help me make a reservation for one of your diamond suites with a sapphire bay view? \n",
      "spk_1: Of course. May I know the dates you planning to visit? \n",
      "spk_0: Sure. It would be from October 10th to 17th. \n",
      "spk_1: Excellent. Let me check the availability. Ah It looks like we have a diamond suite available for those dates. Would you like to proceed with the reservation? \n",
      "spk_0: Definitely. Whats included in the package? \n",
      "spk_1: Wonderful. The package includes breakfast, complimentary access to the moonlit pool and star deck. A one time spa treatment for two and a special romantic dinner at our cloud nine restaurant. \n",
      "spk_0: You making it impossible to resist. Lets go ahead with the booking. \n",
      "spk_1: Great. I'll need some personal information for the reservation. Can I get your full name, contact details and a credit card for the preauthorizations? \n",
      "spk_0: Certainly. My full name is Alexander Thompson. My contact number is 12345678910. And the credit card is, wait, did you say pre authorization? How much would that be? \n",
      "spk_1: Ah, I should have mentioned that earlier. My apologies. A pre authorization amount of '$1000' will be held on your card which would be released upon checkout. \n",
      "spk_0: '$1000'. That seems a bit excessive. Don't you think \n",
      "spk_1: I understand your concern, Alex. The pre authorization is a standard procedure to cover any incidental expenses you may incur during your stay. However, I assure you its only a hold and not an actual charge. \n",
      "spk_0: Thats still a lot. Are there any additional charges that I should know about? \n",
      "spk_1: Well, there is a 10% service charge and a 7% fantasy tax applied to the room rate. \n",
      "spk_0: Mm. You know what its a special occasion. So lets go ahead. \n",
      "spk_1: Thank you, Alex for understanding. Will ensure that your experience at Crystal Heights is well worth it. \n",
      "</transcript>\n",
      "\n",
      "Here is a summary of the transcript:\n",
      "\n",
      "{'ResponseMetadata': {'RequestId': '2f5464e9-9c89-4db0-97d5-98b24d3635a7', 'HTTPStatusCode': 200, 'HTTPHeaders': {'date': 'Sat, 25 Jan 2025 19:59:43 GMT', 'content-type': 'application/json', 'content-length': '1048', 'connection': 'keep-alive', 'x-amzn-requestid': '2f5464e9-9c89-4db0-97d5-98b24d3635a7', 'x-amzn-bedrock-invocation-latency': '9279', 'x-amzn-bedrock-output-token-count': '210', 'x-amzn-bedrock-input-token-count': '714'}, 'RetryAttempts': 0}, 'contentType': 'application/json', 'body': <botocore.response.StreamingBody object at 0x00000176F96B0580>}\n",
      "{'inputTextTokenCount': 714, 'results': [{'tokenCount': 210, 'outputText': 'Alex is looking to book a room for his 10th wedding anniversary at the Crystal Heights Hotel in Singapore. The hotel offers exceptional views and services, including a diamond suite with exclusive access to the moonlit pool and star deck, in-house spa services, world-class dining options, and a shopping arcade. Alex is interested in a diamond suite with a sapphire bay view for the dates of October 10th to 17th. The package includes breakfast, complimentary access to the moonlit pool and star deck, a one-time spa treatment for two, and a special romantic dinner at the cloud nine restaurant. Alex is concerned about the $1000 pre-authorization amount held on his credit card, but the hotel assures him that it is only a hold and not an actual charge. There is a 10% service charge and a 7% fantasy tax applied to the room rate. Alex decides to go ahead with the booking, understanding that the experience at Crystal Heights will be worth it.', 'completionReason': 'FINISH'}]}\n",
      "Alex is looking to book a room for his 10th wedding anniversary at the Crystal Heights Hotel in Singapore. The hotel offers exceptional views and services, including a diamond suite with exclusive access to the moonlit pool and star deck, in-house spa services, world-class dining options, and a shopping arcade. Alex is interested in a diamond suite with a sapphire bay view for the dates of October 10th to 17th. The package includes breakfast, complimentary access to the moonlit pool and star deck, a one-time spa treatment for two, and a special romantic dinner at the cloud nine restaurant. Alex is concerned about the $1000 pre-authorization amount held on his credit card, but the hotel assures him that it is only a hold and not an actual charge. There is a 10% service charge and a 7% fantasy tax applied to the room rate. Alex decides to go ahead with the booking, understanding that the experience at Crystal Heights will be worth it.\n"
     ]
    }
   ],
   "source": [
    "# ____________\n",
    "# Using text from a file\n",
    "# ____________\n",
    "\n",
    "with open('transcript.txt', 'r') as f:\n",
    "    dialog_text = f.read()\n",
    "\n",
    "prompt = f\"\"\"The text between the <transcript> XML tags is a transcript of a conversation. write a summary of the conversation.\n",
    "\n",
    "<transcript>\n",
    "{dialog_text}\n",
    "</transcript>\n",
    "\n",
    "Here is a summary of the transcript:\n",
    "\"\"\"\n",
    "\n",
    "print(prompt)\n",
    "\n",
    "kwargs['body'] = json.dumps({\n",
    "    \"inputText\": prompt,\n",
    "    \"textGenerationConfig\": {\n",
    "        \"maxTokenCount\": 500,\n",
    "        \"temperature\": 0,\n",
    "        \"topP\": 0.9\n",
    "    }\n",
    "})\n",
    "\n",
    "response = bedrock_runtime.invoke_model(**kwargs)\n",
    "\n",
    "print(response)\n",
    "\n",
    "response_body = json.loads(response.get('body').read().decode('utf-8'))\n",
    "\n",
    "print(response_body)\n",
    "print(response_body['results'][0]['outputText'])"
   ]
  }
 ],
 "metadata": {
  "kernelspec": {
   "display_name": "Python 3",
   "language": "python",
   "name": "python3"
  },
  "language_info": {
   "codemirror_mode": {
    "name": "ipython",
    "version": 3
   },
   "file_extension": ".py",
   "mimetype": "text/x-python",
   "name": "python",
   "nbconvert_exporter": "python",
   "pygments_lexer": "ipython3",
   "version": "3.10.6"
  }
 },
 "nbformat": 4,
 "nbformat_minor": 2
}
